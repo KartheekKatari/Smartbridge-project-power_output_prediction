{
 "cells": [
  {
   "cell_type": "code",
   "execution_count": null,
   "id": "23ed09c6-ece5-4a3e-9a63-27fb46c5dcdb",
   "metadata": {},
   "outputs": [],
   "source": [
    "import pandas as pd\n",
    "from sklearn.model_selection import train_test_split\n",
    "from sklearn.linear_model import LinearRegression\n",
    "from sklearn.ensemble import RandomForestRegressor\n",
    "from sklearn.metrics import mean_squared_error\n",
    "\n",
    "# Load data (assuming data is in a CSV file with columns: 'Ambient Temperature', 'Ambient Pressure', 'Relative Humidity', 'Exhaust Vacuum', 'Electrical Power Output')\n",
    "data = pd.read_csv(\"combined_cycle_power_plant_data.csv\")\n",
    "\n",
    "# Define features (X) and target variable (y)\n",
    "X = data[[\"Ambient Temperature\", \"Ambient Pressure\", \"Relative Humidity\", \"Exhaust Vacuum\"]]\n",
    "y = data[\"Electrical Power Output\"]\n",
    "\n",
    "# Split data into training and testing sets\n",
    "X_train, X_test, y_train, y_test = train_test_split(X, y, test_size=0.2, random_state=42)\n",
    "\n",
    "# Create a Linear Regression model\n",
    "linear_model = LinearRegression()\n",
    "linear_model.fit(X_train, y_train)\n",
    "\n",
    "# Make predictions using the linear regression model\n",
    "y_pred_linear = linear_model.predict(X_test)\n",
    "\n",
    "# Create a Random Forest Regression model\n",
    "rf_model = RandomForestRegressor(n_estimators=100, random_state=42)\n",
    "rf_model.fit(X_train, y_train)\n",
    "\n",
    "# Make predictions using the Random Forest model\n",
    "y_pred_rf = rf_model.predict(X_test) \n",
    "\n",
    "# Evaluate model performance (example using Mean Squared Error)\n",
    "print(\"Linear Regression MSE:\", mean_squared_error(y_test, y_pred_linear))\n",
    "print(\"Random Forest MSE:\", mean_squared_error(y_test, y_pred_rf))\n",
    "\n",
    "# To predict power output for new data:\n",
    "new_data = pd.DataFrame({\n",
    "    \"Ambient Temperature\": [25], \n",
    "    \"Ambient Pressure\": [1013.25], \n",
    "    \"Relative Humidity\": [50], \n",
    "    \"Exhaust Vacuum\": [70]\n",
    "})\n",
    "predicted_power = rf_model.predict(new_data) \n",
    "print(\"Predicted Power Output:\", predicted_power) "
   ]
  }
 ],
 "metadata": {
  "kernelspec": {
   "display_name": "Python 3 (ipykernel)",
   "language": "python",
   "name": "python3"
  },
  "language_info": {
   "codemirror_mode": {
    "name": "ipython",
    "version": 3
   },
   "file_extension": ".py",
   "mimetype": "text/x-python",
   "name": "python",
   "nbconvert_exporter": "python",
   "pygments_lexer": "ipython3",
   "version": "3.12.7"
  }
 },
 "nbformat": 4,
 "nbformat_minor": 5
}
